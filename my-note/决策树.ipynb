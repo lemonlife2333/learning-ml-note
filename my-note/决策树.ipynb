{
 "cells": [
  {
   "cell_type": "markdown",
   "metadata": {},
   "source": [
    "# 决策树"
   ]
  },
  {
   "cell_type": "markdown",
   "metadata": {},
   "source": [
    "决策树是一个非参数学习算法，既可以解决分类问题，又可以解决回归问题（叶节点均值作为预测值），天然可以处理多分类问题"
   ]
  },
  {
   "cell_type": "markdown",
   "metadata": {},
   "source": [
    "决策树算法包括：**特征选择、决策树的生成、剪枝**，三个步骤"
   ]
  },
  {
   "cell_type": "markdown",
   "metadata": {},
   "source": [
    "## 特征选择"
   ]
  },
  {
   "cell_type": "markdown",
   "metadata": {},
   "source": [
    "选择合适的特征来划分特征空间，提高学习效率"
   ]
  },
  {
   "cell_type": "markdown",
   "metadata": {},
   "source": [
    "**常用的特征选择准则：信息增益率或信息增益比**"
   ]
  },
  {
   "cell_type": "markdown",
   "metadata": {},
   "source": [
    "熵（entropy）：随机变量不确定性的度量  \n",
    "\n",
    "随机变量X的熵为：$H(X)=- \\sum_{i=1}^n P_i log(P_i)$,其中$P_i$是随机变量X的概率分布   \n",
    "\n",
    "熵越大，随机变量X的不确定性越大，且熵只与X的分布有关\n"
   ]
  },
  {
   "cell_type": "markdown",
   "metadata": {},
   "source": [
    "X给定条件下Y的条件熵（conditional entropy）H（Y|X),也可理解为X给定条件下Y的条件概率分布的熵对X的数学期望\n",
    "$$H(Y|X)=\\sum_{i=1}^n P_i H(Y|X=x_i) $$"
   ]
  },
  {
   "cell_type": "markdown",
   "metadata": {},
   "source": [
    "当熵和条件熵中的概率又概率估计得到时，称之为经验熵和经验条件熵"
   ]
  },
  {
   "cell_type": "markdown",
   "metadata": {},
   "source": [
    "### 信息增益"
   ]
  },
  {
   "cell_type": "markdown",
   "metadata": {},
   "source": [
    "信息增益：特征 A 对训练集 D 的信息增益为$g(D,A)$,定义为集合 D 的经验熵和在A 条件下的经验条件熵之差 $$g(D,A)=H(D)-H(D|A)$$"
   ]
  },
  {
   "cell_type": "markdown",
   "metadata": {},
   "source": [
    "熵 H(Y) 与条件熵 H(Y|X) 之差称为互信息，决策树的信息增益等价于互信息"
   ]
  },
  {
   "cell_type": "markdown",
   "metadata": {},
   "source": [
    "信息增益准则的特征选择方法是：选取信息增益最大的特征"
   ]
  },
  {
   "cell_type": "markdown",
   "metadata": {},
   "source": [
    "### 信息增益比"
   ]
  },
  {
   "cell_type": "markdown",
   "metadata": {},
   "source": [
    "$$g_R(D,A)=\\frac{g(D,A)}{H(D)}$$"
   ]
  },
  {
   "cell_type": "markdown",
   "metadata": {},
   "source": [
    "选择方法同上"
   ]
  },
  {
   "cell_type": "markdown",
   "metadata": {},
   "source": [
    "## 决策树生成"
   ]
  },
  {
   "cell_type": "markdown",
   "metadata": {},
   "source": [
    "ID3算法：在决策树的各个节点上应用信息增益准则进行特征选择，递归地构建决策树  \n",
    "\n",
    "C4.5算法： 在决策树的各个节点上应用信息增益比进行特征选择，递归地构建决策树\n"
   ]
  },
  {
   "cell_type": "markdown",
   "metadata": {},
   "source": [
    "## 剪枝"
   ]
  },
  {
   "cell_type": "markdown",
   "metadata": {},
   "source": [
    "定义损失函数：\n",
    "$C_i（T）=\\sum_{t=1}^m N_tH_t(T)+i|T|\n",
    "，其中树T的叶节点个数为m，t是树T的叶节点，该叶节点有 N_t 个样本$ "
   ]
  },
  {
   "cell_type": "markdown",
   "metadata": {},
   "source": [
    "设一组叶节点回缩至其父节点之前与之后的整体树分别为$T_B$和$T_A$,若$C_i(T_A)\\leq C_i(T_B)$ 则进行剪枝，即将父节点变为新的叶节点"
   ]
  },
  {
   "cell_type": "markdown",
   "metadata": {},
   "source": [
    "## CART算法"
   ]
  },
  {
   "cell_type": "markdown",
   "metadata": {},
   "source": [
    "CART 由特征选择、树的生成、剪枝组成"
   ]
  },
  {
   "cell_type": "markdown",
   "metadata": {},
   "source": [
    "对回归树采用平方误差最小的准则，具体地：选择一个切分点，对切分点前后的区域分别取均值，使得切点与均值之差的平方和最小，对每个区域重复上述划分，直至满足停止条件\n",
    "\n",
    "对分类树采用基尼系数选择最优特征  \n",
    "基尼系数：$Gini（p）=1-\\sum_{i=1}^k p_i^2$,k个类  \n",
    "$Gini(D)=1-\\sum_{i=1}^k \\frac{|C_i|}{|D|}$  ,|D|表示集合D 的样本数，其他的|.|同理   \n",
    "$Gini(D,A)=\\frac{|D_1|}{|D|}Gini(D_1)+\\frac{|D_2|}{|D|}Gini(D_2)$  \n",
    "选择的是基尼系数最小的特征  \n",
    "算法停止条件是节点中样本个数小于一定值或者Gini系数小于一定值"
   ]
  },
  {
   "cell_type": "markdown",
   "metadata": {},
   "source": [
    "CART剪枝：自下而上的进行剪枝，并对结果通过交叉验证选取最优（平方误差最小或基尼系数最小）"
   ]
  },
  {
   "cell_type": "markdown",
   "metadata": {},
   "source": [
    "# sklearn封装的决策树"
   ]
  },
  {
   "cell_type": "markdown",
   "metadata": {},
   "source": [
    "sklearn封装的决策树主要是CART算法，其中包括：分类[DecisionTreeClassifier](https://scikit-learn.org/stable/modules/generated/sklearn.tree.DecisionTreeClassifier.html#sklearn.tree.DecisionTreeClassifier)、回归[DecisionTreeRegression](https://scikit-learn.org/stable/modules/generated/sklearn.tree.DecisionTreeRegressor.html#sklearn.tree.DecisionTreeRegressor)"
   ]
  },
  {
   "cell_type": "markdown",
   "metadata": {},
   "source": [
    "DecisionTreeClassifier 默认采用Gini系数，可选entropy（熵）  \n",
    "DecisionTreeRegression 默认采用均方误差最小，可选 MAE"
   ]
  },
  {
   "cell_type": "code",
   "execution_count": 7,
   "metadata": {},
   "outputs": [],
   "source": [
    "from sklearn import tree"
   ]
  },
  {
   "cell_type": "code",
   "execution_count": 8,
   "metadata": {},
   "outputs": [
    {
     "data": {
      "text/plain": [
       "DecisionTreeClassifier(class_weight=None, criterion='gini', max_depth=None,\n",
       "            max_features=None, max_leaf_nodes=None,\n",
       "            min_impurity_decrease=0.0, min_impurity_split=None,\n",
       "            min_samples_leaf=1, min_samples_split=2,\n",
       "            min_weight_fraction_leaf=0.0, presort=False, random_state=None,\n",
       "            splitter='best')"
      ]
     },
     "execution_count": 8,
     "metadata": {},
     "output_type": "execute_result"
    }
   ],
   "source": [
    "X = [[0, 0], [1, 1]]\n",
    "Y = [0, 1]\n",
    "clf=tree.DecisionTreeClassifier()\n",
    "clf.fit(X,Y)"
   ]
  },
  {
   "cell_type": "code",
   "execution_count": 9,
   "metadata": {},
   "outputs": [
    {
     "data": {
      "text/plain": [
       "array([[0., 1.]])"
      ]
     },
     "execution_count": 9,
     "metadata": {},
     "output_type": "execute_result"
    }
   ],
   "source": [
    "clf.predict_proba([[2., 2.]])"
   ]
  },
  {
   "cell_type": "code",
   "execution_count": 10,
   "metadata": {},
   "outputs": [
    {
     "data": {
      "text/plain": [
       "DecisionTreeClassifier(class_weight=None, criterion='gini', max_depth=None,\n",
       "            max_features=None, max_leaf_nodes=None,\n",
       "            min_impurity_decrease=0.0, min_impurity_split=None,\n",
       "            min_samples_leaf=1, min_samples_split=2,\n",
       "            min_weight_fraction_leaf=0.0, presort=False, random_state=None,\n",
       "            splitter='best')"
      ]
     },
     "execution_count": 10,
     "metadata": {},
     "output_type": "execute_result"
    }
   ],
   "source": [
    "from sklearn.datasets import load_iris\n",
    "iris = load_iris()\n",
    "clf1=tree.DecisionTreeClassifier()\n",
    "clf1.fit(iris.data,iris.target)"
   ]
  },
  {
   "cell_type": "code",
   "execution_count": 11,
   "metadata": {},
   "outputs": [],
   "source": [
    "import graphviz"
   ]
  },
  {
   "cell_type": "code",
   "execution_count": 12,
   "metadata": {},
   "outputs": [],
   "source": [
    "dot_data = tree.export_graphviz(clf, out_file=None)"
   ]
  },
  {
   "cell_type": "code",
   "execution_count": 13,
   "metadata": {},
   "outputs": [],
   "source": [
    "graph = graphviz.Source(dot_data)"
   ]
  },
  {
   "cell_type": "code",
   "execution_count": 15,
   "metadata": {},
   "outputs": [
    {
     "data": {
      "text/plain": [
       "array([0.5])"
      ]
     },
     "execution_count": 15,
     "metadata": {},
     "output_type": "execute_result"
    }
   ],
   "source": [
    ">>> from sklearn import tree\n",
    ">>> X = [[0, 0], [2, 2]]\n",
    ">>> y = [0.5, 2.5]\n",
    ">>> clf2 = tree.DecisionTreeRegressor()\n",
    ">>> clf2 = clf2.fit(X, y)\n",
    ">>> clf2.predict([[1, 1]])"
   ]
  },
  {
   "cell_type": "code",
   "execution_count": 21,
   "metadata": {
    "scrolled": true
   },
   "outputs": [
    {
     "data": {
      "text/plain": [
       "array([ 1, -2, -2], dtype=int64)"
      ]
     },
     "execution_count": 21,
     "metadata": {},
     "output_type": "execute_result"
    }
   ],
   "source": [
    "clf2.tree_.feature"
   ]
  },
  {
   "cell_type": "markdown",
   "metadata": {},
   "source": [
    "## 多值输出"
   ]
  },
  {
   "cell_type": "markdown",
   "metadata": {},
   "source": [
    "一个多值输出问题是一个类似当 Y 是大小为 [n_samples, n_outputs] 的二维数组时，有多个输出值需要预测的监督学习问题。"
   ]
  },
  {
   "cell_type": "code",
   "execution_count": 16,
   "metadata": {},
   "outputs": [],
   "source": [
    "import numpy as np\n",
    "import matplotlib.pyplot as plt\n",
    "from sklearn.tree import DecisionTreeRegressor"
   ]
  },
  {
   "cell_type": "code",
   "execution_count": 17,
   "metadata": {
    "scrolled": true
   },
   "outputs": [
    {
     "data": {
      "image/png": "[encoded data removed]",
      "text/plain": [
       "<Figure size 432x288 with 1 Axes>"
      ]
     },
     "metadata": {
      "needs_background": "light"
     },
     "output_type": "display_data"
    }
   ],
   "source": [
    "# 创建一个随机种子\n",
    "rng = np.random.RandomState(1)\n",
    "X = np.sort(200 * rng.rand(100, 1) - 100, axis=0)\n",
    "y = np.array([np.pi * np.sin(X).ravel(), np.pi * np.cos(X).ravel()]).T\n",
    "y[::5, :] += (0.5 - rng.rand(20, 2))\n",
    "\n",
    "# 训练模型\n",
    "regr_1 = DecisionTreeRegressor(max_depth=2)\n",
    "regr_2 = DecisionTreeRegressor(max_depth=5)\n",
    "regr_3 = DecisionTreeRegressor(max_depth=8)\n",
    "regr_1.fit(X, y)\n",
    "regr_2.fit(X, y)\n",
    "regr_3.fit(X, y)\n",
    "\n",
    "# 预测\n",
    "X_test = np.arange(-100.0, 100.0, 0.01)[:, np.newaxis]\n",
    "y_1 = regr_1.predict(X_test)\n",
    "y_2 = regr_2.predict(X_test)\n",
    "y_3 = regr_3.predict(X_test)\n",
    "\n",
    "# 输出结果图像\n",
    "plt.figure()\n",
    "s = 25\n",
    "plt.scatter(y[:, 0], y[:, 1], c=\"navy\", s=s,\n",
    "            edgecolor=\"black\", label=\"data\")\n",
    "plt.scatter(y_1[:, 0], y_1[:, 1], c=\"cornflowerblue\", s=s,\n",
    "            edgecolor=\"black\", label=\"max_depth=2\")\n",
    "plt.scatter(y_2[:, 0], y_2[:, 1], c=\"red\", s=s,\n",
    "            edgecolor=\"black\", label=\"max_depth=5\")\n",
    "plt.scatter(y_3[:, 0], y_3[:, 1], c=\"orange\", s=s,\n",
    "            edgecolor=\"black\", label=\"max_depth=8\")\n",
    "plt.xlim([-6, 6])\n",
    "plt.ylim([-6, 6])\n",
    "plt.xlabel(\"target 1\")\n",
    "plt.ylabel(\"target 2\")\n",
    "plt.title(\"Multi-output Decision Tree Regression\")\n",
    "plt.legend(loc=\"best\")\n",
    "plt.show()"
   ]
  },
  {
   "cell_type": "markdown",
   "metadata": {},
   "source": [
    "通过控制决策树的层数来防止过拟合"
   ]
  },
  {
   "cell_type": "code",
   "execution_count": null,
   "metadata": {},
   "outputs": [],
   "source": []
  }
 ],
 "metadata": {
  "kernelspec": {
   "display_name": "Python 3",
   "language": "python",
   "name": "python3"
  },
  "language_info": {
   "codemirror_mode": {
    "name": "ipython",
    "version": 3
   },
   "file_extension": ".py",
   "mimetype": "text/x-python",
   "name": "python",
   "nbconvert_exporter": "python",
   "pygments_lexer": "ipython3",
   "version": "3.7.4"
  },
  "toc": {
   "base_numbering": 1,
   "nav_menu": {},
   "number_sections": true,
   "sideBar": true,
   "skip_h1_title": false,
   "title_cell": "Table of Contents",
   "title_sidebar": "Contents",
   "toc_cell": false,
   "toc_position": {},
   "toc_section_display": true,
   "toc_window_display": true
  }
 },
 "nbformat": 4,
 "nbformat_minor": 2
}
