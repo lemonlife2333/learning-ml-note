{
 "cells": [
  {
   "cell_type": "markdown",
   "metadata": {},
   "source": [
    "# 梯度下降法"
   ]
  },
  {
   "cell_type": "markdown",
   "metadata": {},
   "source": [
    "对于代价函数 $J(\\theta)=\\sum_{i=1}^{m}(\\hat{y}-y)^2$,要使得其最小，应该沿着其 梯度 的 负方向 前进，因为梯度方向是下降最快的方向。    \n",
    "梯度下降不是机器学习的模型，是一种常用的优化模型的算法。\n"
   ]
  },
  {
   "cell_type": "markdown",
   "metadata": {},
   "source": [
    "## 批量梯度下降法（BGD）"
   ]
  },
  {
   "cell_type": "markdown",
   "metadata": {},
   "source": [
    "一般而言，不做任何说明梯度下降法就是指批量梯度下降。    \n",
    "\n",
    "批量梯度下降法：对所有变量求导，得到梯度方向，然后沿梯度方向进行迭代，直至达到局部最小。当函数为凸函数时，局部最小即为全局最小；但函数为非凸时，可能存在更小的局部最小。 \n",
    "\n",
    "欲到达全局最小，可选取不同的初始点\n",
    "\n",
    " $\\theta :=\\theta -\\eta \\cdot \\triangledown _{\\theta }J(\\theta )$  \n",
    "其中 $\\eta$ 为学习率，即梯度下降的步长；$\\eta$ 过小收敛速度慢，过大可能无法达到局部最小，应该是一个合适的值。\n",
    "\n",
    "$$\\triangledown _{\\theta }J(\\theta_0 )=\\frac{\\sum_{i=0}^m(\\hat{y}-y)^2}{m},\\theta _0$$    \n",
    "$$\\triangledown _{\\theta }J(\\theta_i )=\\frac{\\sum_{i=0}^m(\\hat{y}-y)^2\\cdot x^i}{m},\\theta _i$$\n",
    "or $$\\triangledown _{\\theta }J(\\theta )=\\frac{X_b^T\\cdot(X_b\\cdot \\theta-Y)}{m},X_b=(1,x_b^1,..,x_b^m)$$"
   ]
  },
  {
   "cell_type": "code",
   "execution_count": 1,
   "metadata": {},
   "outputs": [],
   "source": [
    "import numpy as np\n",
    "\n",
    "\n",
    "#代价函数\n",
    "def J(x_b, y, theta):\n",
    "    \n",
    "    return np.sum((y - x_b.dot(theta))**2) / len(x_b)\n",
    "\n",
    "\n",
    "#批量梯度下降\n",
    "def dJ(theta, x_b, y):\n",
    "    \n",
    "#     result = np.empty(len(theta))\n",
    "#     result[0] = np.sum(x_b.dot(theta) - y)\n",
    "    \n",
    "#     for i in range(1, len(theta)):\n",
    "#         result[i] = (x_b.dot(theta) - y).dot(X_b[:, i])#矩阵点乘\n",
    "\n",
    "#     return result * 2 / len(x_b)\n",
    "    return X_b.T.dot(X_b.dot(theta) - y) * 2. / len(y)#向量化解法\n",
    "\n",
    "\n",
    "def gd(i_theta, x_b, y, eta, n=1e4, e=1e-8):\n",
    "    \n",
    "    theta = i_theta\n",
    "    j = 0\n",
    "    \n",
    "    while j < n:\n",
    "#         求梯度\n",
    "        gradient = dJ(theta, x_b, y)\n",
    "    #         参数更新\n",
    "        last_theta = theta\n",
    "        theta =theta-eta * gradient\n",
    "#         停止条件\n",
    "        if (abs(J(x_b, y, theta) - J(x_b, y, last_theta)) < e):\n",
    "            break \n",
    "        j += 1\n",
    "\n",
    "    return theta\n"
   ]
  },
  {
   "cell_type": "code",
   "execution_count": 2,
   "metadata": {},
   "outputs": [
    {
     "name": "stdout",
     "output_type": "stream",
     "text": [
      "Wall time: 1.92 s\n"
     ]
    },
    {
     "data": {
      "text/plain": [
       "array([3.99839758, 3.002347  ])"
      ]
     },
     "execution_count": 2,
     "metadata": {},
     "output_type": "execute_result"
    }
   ],
   "source": [
    "np.random.seed(666)\n",
    "x = 2 * np.random.random(size=100000)\n",
    "y = x * 3. + 4. + np.random.normal(size=100000)\n",
    "X_b = np.hstack([np.ones((len(x), 1)), x.reshape(-1, 1)])\n",
    "initial_theta = np.zeros(X_b.shape[1])\n",
    "eta = 0.01\n",
    "\n",
    "% time gd(initial_theta, X_b, y, eta)"
   ]
  },
  {
   "cell_type": "markdown",
   "metadata": {},
   "source": [
    "## 随机梯度下降法(SGD)"
   ]
  },
  {
   "cell_type": "markdown",
   "metadata": {},
   "source": [
    "当数据量级很大时，采用批量梯度下降明显效率低下，为此可以采用随机梯度下降法。 \n",
    "\n",
    "随机梯度下降：每次更新参数时，只沿一个方向更新；即每次只对一个变量求导，得到梯度方向。 \n",
    "\n",
    "    优点：更新速度很快，有可能跳出局部最优到达全局最优。   \n",
    "    缺点：不会精确收敛到全局最小值、参数方差波动大。\n",
    " \n",
    " 更新参数：   \n",
    " $\\theta :=\\theta -\\eta \\cdot \\triangledown _{\\theta }J(\\theta;x^{(i)},y^{(i)} )$\n",
    " \n",
    "$$\\triangledown _{\\theta }J(\\theta )=\\frac{X_bi^T\\cdot(X_bi\\cdot \\theta-Y)}{m},X_b=(1,x_b1,..,x_bm)$$"
   ]
  },
  {
   "cell_type": "markdown",
   "metadata": {},
   "source": [
    "### 手写SGD"
   ]
  },
  {
   "cell_type": "code",
   "execution_count": 3,
   "metadata": {},
   "outputs": [],
   "source": [
    "import numpy as np\n",
    "\n",
    "# 代价函数\n",
    "def dJ_sgd(theta, X_b_i, y_i):\n",
    "    return 2 * X_b_i.T.dot(X_b_i.dot(theta) - y_i)\n",
    "\n",
    "\n",
    "def sgd(X_b, y, initial_theta, n_iters):\n",
    "#     初始化参数\n",
    "    t0, t1 = 5, 50\n",
    "#     定义学习率\n",
    "    def learning_rate(t):\n",
    "        return t0 / (t + t1)\n",
    "\n",
    "    theta = initial_theta\n",
    "    for cur_iter in range(n_iters):\n",
    "#         随机索引\n",
    "        rand_i = np.random.randint(len(X_b))\n",
    "#         参数更新\n",
    "        gradient = dJ_sgd(theta, X_b[rand_i], y[rand_i])\n",
    "        theta = theta - learning_rate(cur_iter) * gradient\n",
    "\n",
    "    return theta"
   ]
  },
  {
   "cell_type": "code",
   "execution_count": 4,
   "metadata": {},
   "outputs": [
    {
     "name": "stdout",
     "output_type": "stream",
     "text": [
      "Wall time: 185 ms\n"
     ]
    },
    {
     "data": {
      "text/plain": [
       "array([3.99232723, 3.00189537])"
      ]
     },
     "execution_count": 4,
     "metadata": {},
     "output_type": "execute_result"
    }
   ],
   "source": [
    "np.random.seed(666)\n",
    "x = 2 * np.random.random(size=100000)\n",
    "y = x * 3. + 4. + np.random.normal(size=100000)\n",
    "X_b = np.hstack([np.ones((len(x), 1)), x.reshape(-1, 1)])\n",
    "initial_theta = np.zeros(X_b.shape[1])\n",
    "\n",
    "% time sgd( X_b, y,initial_theta,n_iters=len(y)//3)"
   ]
  },
  {
   "cell_type": "markdown",
   "metadata": {},
   "source": [
    "### sklearn封装的SGD"
   ]
  },
  {
   "cell_type": "markdown",
   "metadata": {},
   "source": [
    "[SGDClassifier](https://scikit-learn.org/stable/modules/generated/sklearn.linear_model.SGDClassifier.html#sklearn.linear_model.SGDClassifier) 类实现了一个简单的随机梯度下降学习例程, 支持不同的 loss functions（损失函数）和 penalties for classification（分类处罚）。    \n",
    "\n"
   ]
  },
  {
   "cell_type": "code",
   "execution_count": 5,
   "metadata": {
    "scrolled": true
   },
   "outputs": [
    {
     "name": "stderr",
     "output_type": "stream",
     "text": [
      "C:\\Users\\yep\\Anaconda3\\lib\\site-packages\\sklearn\\linear_model\\stochastic_gradient.py:166: FutureWarning: max_iter and tol parameters have been added in SGDClassifier in 0.19. If both are left unset, they default to max_iter=5 and tol=None. If tol is not None, max_iter defaults to max_iter=1000. From 0.21, default max_iter will be 1000, and default tol will be 1e-3.\n",
      "  FutureWarning)\n"
     ]
    },
    {
     "data": {
      "text/plain": [
       "SGDClassifier(alpha=0.0001, average=False, class_weight=None,\n",
       "       early_stopping=False, epsilon=0.1, eta0=0.0, fit_intercept=True,\n",
       "       l1_ratio=0.15, learning_rate='optimal', loss='hinge', max_iter=None,\n",
       "       n_iter=None, n_iter_no_change=5, n_jobs=None, penalty='l2',\n",
       "       power_t=0.5, random_state=None, shuffle=True, tol=None,\n",
       "       validation_fraction=0.1, verbose=0, warm_start=False)"
      ]
     },
     "execution_count": 5,
     "metadata": {},
     "output_type": "execute_result"
    }
   ],
   "source": [
    "from sklearn.linear_model import SGDClassifier\n",
    "X = [[0., 0.], [1., 1.]]\n",
    "y = [0, 1]\n",
    "clf = SGDClassifier(loss=\"hinge\", penalty=\"l2\")\n",
    "clf.fit(X, y)"
   ]
  },
  {
   "cell_type": "code",
   "execution_count": 6,
   "metadata": {},
   "outputs": [
    {
     "data": {
      "text/plain": [
       "array([1])"
      ]
     },
     "execution_count": 6,
     "metadata": {},
     "output_type": "execute_result"
    }
   ],
   "source": [
    "clf.predict([[2., 2.]])"
   ]
  },
  {
   "cell_type": "code",
   "execution_count": 7,
   "metadata": {},
   "outputs": [
    {
     "data": {
      "text/plain": [
       "array([[9.91080278, 9.91080278]])"
      ]
     },
     "execution_count": 7,
     "metadata": {},
     "output_type": "execute_result"
    }
   ],
   "source": [
    "clf.coef_"
   ]
  },
  {
   "cell_type": "code",
   "execution_count": 8,
   "metadata": {},
   "outputs": [
    {
     "data": {
      "text/plain": [
       "array([-9.99002993])"
      ]
     },
     "execution_count": 8,
     "metadata": {},
     "output_type": "execute_result"
    }
   ],
   "source": [
    " clf.intercept_    "
   ]
  },
  {
   "cell_type": "code",
   "execution_count": 9,
   "metadata": {},
   "outputs": [
    {
     "data": {
      "text/plain": [
       "array([29.65318117])"
      ]
     },
     "execution_count": 9,
     "metadata": {},
     "output_type": "execute_result"
    }
   ],
   "source": [
    "clf.decision_function([[2., 2.]])\n",
    "#预测样本的置信度分数。\n",
    "\n",
    "#样本的置信度得分是该样本与超平面的有符号距离。"
   ]
  },
  {
   "cell_type": "markdown",
   "metadata": {},
   "source": [
    "具体的 loss function（损失函数） 可以通过 loss 参数来设置。 SGDClassifier 支持以下的 loss functions（损失函数）：\n",
    "\n",
    "- loss=\"hinge\": (soft-margin) linear Support Vector Machine （（软-间隔）线性支持向量机），\n",
    "- loss=\"modified_huber\": smoothed hinge loss （平滑的 hinge 损失），\n",
    "- loss=\"log\": logistic regression （logistic 回归），\n",
    "- and all regression losses below（以及所有的回归损失）。"
   ]
  },
  {
   "cell_type": "markdown",
   "metadata": {},
   "source": [
    "使用 loss=\"log\" 或者 loss=\"modified_huber\" 来启用 predict_proba 方法, 其给出每个样本 x 的概率估计 P(y|x) 的一个向量："
   ]
  },
  {
   "cell_type": "code",
   "execution_count": 10,
   "metadata": {},
   "outputs": [
    {
     "name": "stderr",
     "output_type": "stream",
     "text": [
      "C:\\Users\\yep\\Anaconda3\\lib\\site-packages\\sklearn\\linear_model\\stochastic_gradient.py:166: FutureWarning: max_iter and tol parameters have been added in SGDClassifier in 0.19. If both are left unset, they default to max_iter=5 and tol=None. If tol is not None, max_iter defaults to max_iter=1000. From 0.21, default max_iter will be 1000, and default tol will be 1e-3.\n",
      "  FutureWarning)\n"
     ]
    }
   ],
   "source": [
    ">>> clf = SGDClassifier(loss=\"log\").fit(X, y)"
   ]
  },
  {
   "cell_type": "code",
   "execution_count": 11,
   "metadata": {},
   "outputs": [
    {
     "data": {
      "text/plain": [
       "array([[4.97248476e-07, 9.99999503e-01]])"
      ]
     },
     "execution_count": 11,
     "metadata": {},
     "output_type": "execute_result"
    }
   ],
   "source": [
    ">>> clf.predict_proba([[1., 1.]])"
   ]
  },
  {
   "cell_type": "markdown",
   "metadata": {},
   "source": [
    "具体的惩罚方法可以通过 penalty 参数来设定。 SGD 支持以下 penalties（惩罚）:\n",
    "\n",
    "- penalty=\"l2\": L2 norm penalty on coef_.\n",
    "- penalty=\"l1\": L1 norm penalty on coef_.\n",
    "- penalty=\"elasticnet\": Convex combination of L2 and L1（L2 型和 L1 型的凸组合）; (1 - l1_ratio) * L2 + l1_ratio * L1.   \n",
    "默认设置为 penalty=\"l2\" 。 L1 penalty （惩罚）导致稀疏解，使得大多数系数为零。 Elastic Net（弹性网）解决了在特征高相关时 L1 penalty（惩罚）的一些不足。参数 l1_ratio 控制了 L1 和 L2 penalty（惩罚）的 convex combination （凸组合）。"
   ]
  },
  {
   "cell_type": "markdown",
   "metadata": {},
   "source": [
    "**SGDClassifier 通过利用 “one versus all” （OVA）方法来组合多个二分类器，从而实现多分类。对于每一个 K 类, 可以训练一个二分类器来区分自身和其他 K-1 个类。在测试阶段，我们计算每个分类器的 confidence score（置信度分数）（也就是与超平面的距离），并选择置信度最高的分类。**"
   ]
  },
  {
   "cell_type": "markdown",
   "metadata": {},
   "source": [
    "SGD允许使用minibatch（在线/核心）学习，请参阅[partial_fit](https://scikit-learn.org/stable/modules/generated/sklearn.linear_model.SGDClassifier.html#sklearn.linear_model.SGDClassifier.partial_fit) 方法。\n",
    "\n"
   ]
  },
  {
   "cell_type": "markdown",
   "metadata": {},
   "source": [
    "## 小批量梯度下降（MBGD）"
   ]
  },
  {
   "cell_type": "markdown",
   "metadata": {},
   "source": [
    "小批量梯度下降法是BGD和SGD的折中，即保证了更新速度又减少了参数方差波动，一般mini-batch size在50到256之间，每次参数更新计算小批量样本的梯度。\n",
    "\n",
    " $\\theta :=\\theta -\\eta \\cdot \\triangledown _{\\theta }J(\\theta;x^{(i:i+n)},y^{(i:i+n)} )$\n",
    "\n",
    " "
   ]
  },
  {
   "cell_type": "code",
   "execution_count": 12,
   "metadata": {},
   "outputs": [],
   "source": [
    "\n",
    "def dJ_sgd(theta, X_b_i, y_i):\n",
    "    return X_b_i.T.dot(X_b_i.dot(theta) - y_i)* 2. \n",
    "\n",
    " \n",
    "def mbgd(X_b, y, initial_theta, n_iters,n=100):\n",
    "    \n",
    "    t0 = 5\n",
    "    t1 = 50\n",
    "    \n",
    "    def learning_rate(t):\n",
    "        return t0/(t+t1)\n",
    "\n",
    "    theta = initial_theta\n",
    "    for cur_iter in range(1,n_iters): \n",
    "        for i in range(n):\n",
    "#             随机索引\n",
    "            rand_i= np.random.randint(len(X_b))\n",
    "#             参数更新\n",
    "            gradient = dJ_sgd(theta, X_b[rand_i], y[rand_i])\n",
    "            theta = theta - learning_rate(cur_iter) * gradient\n",
    "    return theta\n"
   ]
  },
  {
   "cell_type": "code",
   "execution_count": 13,
   "metadata": {},
   "outputs": [
    {
     "name": "stdout",
     "output_type": "stream",
     "text": [
      "Wall time: 550 ms\n"
     ]
    },
    {
     "data": {
      "text/plain": [
       "array([4.02667622, 2.94687564])"
      ]
     },
     "execution_count": 13,
     "metadata": {},
     "output_type": "execute_result"
    }
   ],
   "source": [
    "np.random.seed(666)\n",
    "x = 2 * np.random.random(size=100000)\n",
    "y = x * 3. + 4. + np.random.normal(size=100000)\n",
    "X_b = np.hstack([np.ones((len(x), 1)), x.reshape(-1, 1)])\n",
    "initial_theta = np.zeros(X_b.shape[1])\n",
    "\n",
    "% time mbgd( X_b, y,initial_theta,n_iters=len(y)//100)"
   ]
  },
  {
   "cell_type": "markdown",
   "metadata": {},
   "source": [
    "上述算法在数据量较大时候准确度较为稳定，可能是我没有设置退出条件,不过当数据量级达到一定程度时，准确度越来越高"
   ]
  },
  {
   "cell_type": "markdown",
   "metadata": {},
   "source": [
    "# 梯度调试\n"
   ]
  },
  {
   "cell_type": "markdown",
   "metadata": {},
   "source": [
    "$$\\triangledown _{\\theta }J(\\theta_i )=\\frac{J(\\theta_i+\\epsilon)-J(\\theta_i-\\epsilon)}{2\\epsilon}$$"
   ]
  },
  {
   "cell_type": "markdown",
   "metadata": {},
   "source": [
    "这种方法计算时间复杂度高，但能保证结论一定正确"
   ]
  },
  {
   "cell_type": "code",
   "execution_count": null,
   "metadata": {},
   "outputs": [],
   "source": []
  }
 ],
 "metadata": {
  "kernelspec": {
   "display_name": "Python 3",
   "language": "python",
   "name": "python3"
  },
  "language_info": {
   "codemirror_mode": {
    "name": "ipython",
    "version": 3
   },
   "file_extension": ".py",
   "mimetype": "text/x-python",
   "name": "python",
   "nbconvert_exporter": "python",
   "pygments_lexer": "ipython3",
   "version": "3.7.4"
  },
  "toc": {
   "base_numbering": 1,
   "nav_menu": {},
   "number_sections": true,
   "sideBar": true,
   "skip_h1_title": false,
   "title_cell": "Table of Contents",
   "title_sidebar": "Contents",
   "toc_cell": false,
   "toc_position": {},
   "toc_section_display": true,
   "toc_window_display": true
  }
 },
 "nbformat": 4,
 "nbformat_minor": 2
}
